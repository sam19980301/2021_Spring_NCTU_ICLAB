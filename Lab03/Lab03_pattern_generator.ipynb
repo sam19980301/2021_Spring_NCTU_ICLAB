{
 "cells": [
  {
   "cell_type": "code",
   "execution_count": 1,
   "metadata": {
    "scrolled": true
   },
   "outputs": [
    {
     "name": "stderr",
     "output_type": "stream",
     "text": [
      "C:\\Users\\ASUS\\Anaconda3\\lib\\site-packages\\statsmodels\\tools\\_testing.py:19: FutureWarning: pandas.util.testing is deprecated. Use the functions in the public API at pandas.testing instead.\n",
      "  import pandas.util.testing as tm\n"
     ]
    }
   ],
   "source": [
    "import numpy as np\n",
    "import random\n",
    "import maze # https://github.com/johnsliao/python-maze-generator.git\n",
    "import seaborn as sns"
   ]
  },
  {
   "cell_type": "code",
   "execution_count": 2,
   "metadata": {},
   "outputs": [],
   "source": [
    "class MyMaze(maze.Maze):\n",
    "    def __init__(self,h,w,seed):\n",
    "        random.seed(seed)\n",
    "        super().__init__(h,w)\n",
    "\n",
    "def generate_single_maze(random_state,l=9):\n",
    "    m = MyMaze(l,l,random_state)\n",
    "    m.generate()\n",
    "    return m\n",
    "\n",
    "def maze_formatting(m,seed,l=9):\n",
    "    cell_array = np.ones((2*l+1,2*l+1))\n",
    "    for i in range(2*l+1):\n",
    "        for j in range(2*l+1):\n",
    "            if (i==0 or j==0 or i==2*l or j==2*l):\n",
    "                cell_array[i][j]=0\n",
    "    for i in range(l):\n",
    "        for j in range(l):\n",
    "            if (m.cells[i][j].east):\n",
    "                cell_array[2*j+1-1][2*i+1+1] = 0\n",
    "                cell_array[2*j+1+0][2*i+1+1] = 0\n",
    "                cell_array[2*j+1+1][2*i+1+1] = 0\n",
    "            if (m.cells[i][j].west):\n",
    "                cell_array[2*j+1-1][2*i+1-1] = 0\n",
    "                cell_array[2*j+1+0][2*i+1-1] = 0\n",
    "                cell_array[2*j+1+1][2*i+1-1] = 0\n",
    "            if (m.cells[i][j].north):\n",
    "                cell_array[2*j+1-1][2*i+1+1] = 0\n",
    "                cell_array[2*j+1-1][2*i+1+0] = 0\n",
    "                cell_array[2*j+1-1][2*i+1-1] = 0\n",
    "            if (m.cells[i][j].south):\n",
    "                cell_array[2*j+1+1][2*i+1+1] = 0\n",
    "                cell_array[2*j+1+1][2*i+1+0] = 0\n",
    "                cell_array[2*j+1+1][2*i+1-1] = 0\n",
    "    \n",
    "    random.seed(seed)\n",
    "    n_trap = random.randint(0,8)\n",
    "    n_hostage = random.randint(0,4)\n",
    "    # print('n_hostage: ',n_hostage)\n",
    "    # print('n_trap: ',n_trap)\n",
    "\n",
    "    for i in range(n_trap):\n",
    "        while True:\n",
    "            idx = random.randint(0,2*l)\n",
    "            idy = random.randint(0,2*l)\n",
    "            if ((idx,idy) != (1,1)) and ((idx,idy) != (2*l-1,2*l-1)): # not at start/end point\n",
    "                if cell_array[idx,idy] == 1: # if path\n",
    "                    bot = int(cell_array[idx+1,idy]==0)\n",
    "                    top = int(cell_array[idx-1,idy]==0)\n",
    "                    left = int(cell_array[idx,idy-1]==0)\n",
    "                    right = int(cell_array[idx,idy+1]==0)\n",
    "                    if bot + top + left + right != 3: # not end path\n",
    "                        if bot + top + left + right == 2: # two wall\n",
    "                            bot = int(cell_array[idx+1,idy]==2)\n",
    "                            top = int(cell_array[idx-1,idy]==2)\n",
    "                            left = int(cell_array[idx,idy-1]==2)\n",
    "                            right = int(cell_array[idx,idy+1]==2)\n",
    "                            if bot + top + left + right < 1: # no continuous trap\n",
    "                                cell_array[idx,idy] = 2\n",
    "                                break\n",
    "\n",
    "    for i in range(n_hostage):\n",
    "        while True:\n",
    "            idx = random.randint(0,2*l)\n",
    "            idy = random.randint(0,2*l)\n",
    "            if ((idx,idy) != (1,1)) and ((idx,idy) != (2*l-1,2*l-1)): # not at start/end point\n",
    "                if cell_array[idx,idy] == 1: # if path\n",
    "                    bot = int(cell_array[idx+1,idy]==0)\n",
    "                    top = int(cell_array[idx-1,idy]==0)\n",
    "                    left = int(cell_array[idx,idy-1]==0)\n",
    "                    right = int(cell_array[idx,idy+1]==0)\n",
    "                    if bot + top + left + right == 3: # end path\n",
    "                        cell_array[idx,idy] = 3\n",
    "                        break\n",
    "                        \n",
    "    single_bit = ['0','1']\n",
    "    excess_3_list = ['0011','0100','0101','0110','0111','1000','1001','1010','1011','1100']\n",
    "    if (n_hostage==2 or n_hostage==4):\n",
    "        password_list = [random.choice(single_bit) + \\\n",
    "                         random.choice(excess_3_list) + \\\n",
    "                         random.choice(excess_3_list) for i in range(n_hostage)]\n",
    "    else:\n",
    "        password_list = [''.join([random.choice(single_bit) for i in range(9)]) for j in range(n_hostage)]\n",
    "    \n",
    "    return cell_array, password_list"
   ]
  },
  {
   "cell_type": "code",
   "execution_count": 25,
   "metadata": {},
   "outputs": [
    {
     "data": {
      "text/plain": [
       "<matplotlib.axes._subplots.AxesSubplot at 0x2239e84a588>"
      ]
     },
     "execution_count": 25,
     "metadata": {},
     "output_type": "execute_result"
    },
    {
     "data": {
      "image/png": "[encoded data removed]",
      "text/plain": [
       "<Figure size 432x288 with 2 Axes>"
      ]
     },
     "metadata": {
      "needs_background": "light"
     },
     "output_type": "display_data"
    }
   ],
   "source": [
    "# Single maze\n",
    "seed = 0\n",
    "m = generate_single_maze(seed)\n",
    "# m.draw()\n",
    "cell_array,pwd_list = maze_formatting(m,seed)\n",
    "sns.heatmap(cell_array[1:-1,1:-1].astype(int),linewidth=0.5,square=True)"
   ]
  },
  {
   "cell_type": "code",
   "execution_count": 22,
   "metadata": {},
   "outputs": [],
   "source": [
    "n_pattern = 500\n",
    "with open('input.txt','w') as f:\n",
    "    # f.write(str(n_pattern) + '\\n')\n",
    "    # f.write('\\n')\n",
    "    for seed in range(n_pattern):\n",
    "        m = generate_single_maze(seed)\n",
    "        cell_array,pwd_list = maze_formatting(m,seed)\n",
    "        f.write(' '.join(cell_array[1:-1,1:-1].reshape(-1).astype(int).astype(str).tolist()) + '\\n')\n",
    "        # f.write(' '.join([str(int(i,2)) for i in pwd_list]) + '\\n')\n",
    "        f.write('\\n')"
   ]
  }
 ],
 "metadata": {
  "kernelspec": {
   "display_name": "Python 3",
   "language": "python",
   "name": "python3"
  },
  "language_info": {
   "codemirror_mode": {
    "name": "ipython",
    "version": 3
   },
   "file_extension": ".py",
   "mimetype": "text/x-python",
   "name": "python",
   "nbconvert_exporter": "python",
   "pygments_lexer": "ipython3",
   "version": "3.7.4"
  }
 },
 "nbformat": 4,
 "nbformat_minor": 2
}
