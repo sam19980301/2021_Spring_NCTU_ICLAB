{
 "cells": [
  {
   "cell_type": "code",
   "execution_count": 16,
   "metadata": {},
   "outputs": [],
   "source": []
  },
  {
   "cell_type": "code",
   "execution_count": 17,
   "metadata": {},
   "outputs": [],
   "source": []
  },
  {
   "cell_type": "code",
   "execution_count": 29,
   "metadata": {},
   "outputs": [],
   "source": []
  },
  {
   "cell_type": "code",
   "execution_count": 30,
   "metadata": {},
   "outputs": [],
   "source": [
    "with open('dram.dat','w') as f:\n",
    "    random.seed(0)\n",
    "    for player_no in range(256):\n",
    "        player = Player()\n",
    "        bag_addr = \"@\" + \"1\" + hex(player_no * 8 + 0).lstrip('0x').zfill(4).upper()\n",
    "        f.write(bag_addr+'\\n')\n",
    "        f.write(player.bag.encode()+'\\n')\n",
    "        pkm_addr = \"@\" + \"1\" + hex(player_no * 8 + 4).lstrip('0x').zfill(4).upper()\n",
    "        f.write(pkm_addr+'\\n')\n",
    "        f.write(player.pkm.encode()+'\\n')"
   ]
  },
  {
   "cell_type": "code",
   "execution_count": 5,
   "metadata": {},
   "outputs": [],
   "source": [
    "# player_list = list()\n",
    "# for player_no in range(256):\n",
    "#     player_list.append(Player())\n",
    "    \n",
    "# player_list[233-1].display()\n",
    "\n",
    "# print(player_list[232].bag.encode())\n",
    "# print(player_list[232].pkm.encode())\n",
    "\n",
    "# bin_code = ''.join( \\\n",
    "#     [\n",
    "#         bin(self.berry_num).lstrip('0b').zfill(4),\n",
    "#         bin(self.medicine_num).lstrip('0b').zfill(4),\n",
    "#         bin(self.candy_num).lstrip('0b').zfill(4),\n",
    "#         bin(self.bracer_num).lstrip('0b').zfill(4),\n",
    "#         bin(self.stone).lstrip('0b').zfill(2),\n",
    "#         bin(self.money).lstrip('0b').zfill(14),\n",
    "#     ]\n",
    "# )\n",
    "# assert len(bin_code) == 32\n",
    "# hex_code = hex(int(bin_code, 2)).lstrip('0x').zfill(8).upper()\n",
    "# # hex_code = ' '.join([hex_code[i:i+2] for i in range(4)])"
   ]
  }
 ],
 "metadata": {
  "kernelspec": {
   "display_name": "Python 3",
   "language": "python",
   "name": "python3"
  },
  "language_info": {
   "codemirror_mode": {
    "name": "ipython",
    "version": 3
   },
   "file_extension": ".py",
   "mimetype": "text/x-python",
   "name": "python",
   "nbconvert_exporter": "python",
   "pygments_lexer": "ipython3",
   "version": "3.7.4"
  }
 },
 "nbformat": 4,
 "nbformat_minor": 2
}
